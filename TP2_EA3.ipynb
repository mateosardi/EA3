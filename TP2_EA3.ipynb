{
  "nbformat": 4,
  "nbformat_minor": 0,
  "metadata": {
    "colab": {
      "provenance": [],
      "include_colab_link": true
    },
    "kernelspec": {
      "name": "python3",
      "display_name": "Python 3"
    },
    "language_info": {
      "name": "python"
    }
  },
  "cells": [
    {
      "cell_type": "markdown",
      "metadata": {
        "id": "view-in-github",
        "colab_type": "text"
      },
      "source": [
        "<a href=\"https://colab.research.google.com/github/mateosardi/EA3/blob/main/TP2_EA3.ipynb\" target=\"_parent\"><img src=\"https://colab.research.google.com/assets/colab-badge.svg\" alt=\"Open In Colab\"/></a>"
      ]
    },
    {
      "cell_type": "code",
      "source": [
        "import numpy as np\n",
        "import matplotlib.pyplot as plt"
      ],
      "metadata": {
        "id": "HrrvYPZFECnA"
      },
      "execution_count": null,
      "outputs": []
    },
    {
      "cell_type": "markdown",
      "source": [
        "#Calculo de estabilidad"
      ],
      "metadata": {
        "id": "XaBECgpmkuXt"
      }
    },
    {
      "cell_type": "code",
      "source": [
        "fo = 1800000000;\n",
        "\n",
        "s11 = 0.7445*np.exp(1j*158.2*np.pi/180);\n",
        "s12 = 0.0680*np.exp(1j*44.0*np.pi/180);\n",
        "s21 = 3.654*np.exp(1j*58.4*np.pi/180);\n",
        "s22 = 0.4998*np.exp(1j*168.3*np.pi/180);\n",
        "\n",
        "d = s11*s22-s12*s21\n",
        "k = (1-np.abs(s11)**2-np.abs(s22)**2+np.abs(d)**2)/(2*np.abs(s21*s12))\n",
        "#modD= np.abs(d)\n",
        "#angle(d)*180/pi\n",
        "if k>1 and (np.abs(d)<1):\n",
        "  print(\"Es estable\")\n",
        "else:\n",
        "  print(\"No es estable\")"
      ],
      "metadata": {
        "colab": {
          "base_uri": "https://localhost:8080/"
        },
        "id": "84dtgF2cktNF",
        "outputId": "8bc47e42-a543-4d43-b5f8-3104dc3226c4"
      },
      "execution_count": null,
      "outputs": [
        {
          "output_type": "stream",
          "name": "stdout",
          "text": [
            "Es estable\n"
          ]
        }
      ]
    },
    {
      "cell_type": "markdown",
      "source": [
        "#Cálculo de parámetros\n",
        "\n",
        "El valor de B1 es $B_1 = 1 + |s_{11}|^2$ "
      ],
      "metadata": {
        "id": "5M2p_OEaDiTY"
      }
    },
    {
      "cell_type": "code",
      "source": [
        "B1 = 1+np.abs(s11)**2-np.abs(s22)**2-abs(d)**2\n",
        "B2 = 1+abs(s22)**2-abs(s11)**2-abs(d)**2\n",
        "C1 = s11-(d*np.conj(s22))\n",
        "C2 = s22-(d*np.conj(s11))\n",
        "#np.abs(C1)\n",
        "#np.angle(C1)*180/pi\n",
        "#np.abs(C2)\n",
        "#np.angle(C2)*180/pi\n",
        "\n",
        "MSG = 10*np.log10(np.abs(s21)/np.abs(s12))\n",
        "MAG = MSG + 10*np.log10(k-np.sqrt(k**2-1))\n",
        "\n",
        "mgammain = np.abs((B1-np.sqrt(B1**2-4*np.abs(C1)**2))/(2*np.abs(C1)))\n",
        "fgammain = np.angle(C1)*180/np.pi\n",
        "\n",
        "mgammaout = np.abs((B2-np.sqrt(B2**2-4*np.abs(C2)**2))/(2*np.abs(C2)))\n",
        "fgammaout = np.angle(C2)*180/np.pi\n",
        "\n",
        "gammain = mgammain*np.exp(1j*fgammain*np.pi/180)\n",
        "gammaout = mgammaout*np.exp(1j*fgammaout*np.pi/180)"
      ],
      "metadata": {
        "id": "VhIkUztdDmy5"
      },
      "execution_count": null,
      "outputs": []
    },
    {
      "cell_type": "markdown",
      "source": [
        "#Impedancias"
      ],
      "metadata": {
        "id": "5-Bjho8EDuFW"
      }
    },
    {
      "cell_type": "code",
      "source": [
        "Zo = 50;\n",
        "RL = 50;\n",
        "\n",
        "Zin = Zo*(1+gammain)/(1-gammain)\n",
        "Zout = Zo*(1+gammaout)/(1-gammaout)\n",
        "Zs = np.conj(Zin)\n",
        "ZL = np.conj(Zout)\n",
        "\n",
        "#ZIN\n",
        "Rp = np.real(Zin)*(1+(np.imag(Zin)/np.real(Zin))**2)\n",
        "Xp = Rp * np.real(Zin) / np.imag(Zin)\n",
        "Xcin = -Xp*1j\n",
        "Cin = 1/(1j*2*np.pi*fo*Xcin)\n",
        "Zoin = np.sqrt(Rp*Zo)\n",
        "\n",
        "#ZOUT\n",
        "Zoout = np.sqrt(np.real(Zout)*RL)\n",
        "#Xcout = 1j*np.imag(Zout)\n",
        "#Cout = 1/(1j*2*np.pi*fo*Xcout)\n",
        "Xl = Zoout**2/(1j*np.imag(Zout))\n",
        "Cout = 1/(1j*2*np.pi*fo*-Xl)"
      ],
      "metadata": {
        "id": "vMrD3smfDyn6"
      },
      "execution_count": null,
      "outputs": []
    },
    {
      "cell_type": "markdown",
      "source": [
        "#Cálculo de microtiras de entrada y salida"
      ],
      "metadata": {
        "id": "WmkZrlzqD2WO"
      }
    },
    {
      "cell_type": "code",
      "source": [
        "er = 4;\n",
        "h = 0.0012;\n",
        "t = 7e-5;\n",
        "\n",
        "#MICROTIRA ZIN\n",
        "\n",
        "Ain = Zoin/60 * np.sqrt((er+1)/2)+((er-1)/(er+1))*(0.23+(0.11)/er)\n",
        "#Apin = Zoin/60 * np.sqrt((er+1)/2)+((er-1)/(er+1))*(0.226+(0.121)/er)\n",
        "Bin = 377*np.pi/(2*Zoin*np.sqrt(er))\n",
        "\n",
        "wh5in = 8*np.exp(Ain)/(np.exp(2*Ain)-2)\n",
        "wh6in = (2/np.pi)*(Bin-1-np.log(2*Bin-1)+((er-1)/(2*er))*(np.log(Bin-1)+0.39-(0.61/er)))\n",
        "#wh6p = ((er-1)/(pi*er))*(np.log(Bin-1)+0.293-(0.517/er))+(2/pi)*(Bin-1-log(2*Bin-1))\n",
        "\n",
        "\n",
        "if wh5in>=2 and wh6in>=2:\n",
        "  whin = wh6in\n",
        "else:\n",
        "  whin = wh5in\n",
        "if whin>=1:\n",
        "  er_in= ((er+1)/2)+((er-1)/2)*(1/(np.sqrt(1+(12/whin))))\n",
        "else: \n",
        "  er_in=(er+1)/2 + ((er-1)/2)*((1/np.sqrt(1+12/whin)) + 0.04*(1-whin)**2)  \n",
        "win = whin * h\n",
        "if whin>=(1/(2*np.pi)):\n",
        "  wein = win+((t/np.pi)*(1+np.log((4*np.pi*win)/t)))\n",
        "else:\n",
        "  wein = win+((t/np.pi)*(1+(np.log((2*h)/t))))\n",
        "  \n",
        "# Largo entrada  \n",
        "lambdaa = 3e8 / fo\n",
        "lambdaefin = lambdaa/np.sqrt(er_in)\n",
        "largoin = lambdaefin/4  \n",
        "\n",
        "print(\"El ancho de la microtira de entrada es de\",np.round(wein*10**3,3),\"mm\")\n",
        "print(\"El largo de la microtira de entrada es de\",np.round(largoin*10**3,3),\"mm\")\n",
        "\n",
        "#MICROTIRA ZOUT\n",
        "\n",
        "Aout = Zoout/60 * np.sqrt((er+1)/2)+((er-1)/(er+1))*(0.23+(0.11)/er)\n",
        "#Apout = Zoout/60 * np.sqrt((er+1)/2)+((er-1)/(er+1))*(0.226+(0.121)/er)\n",
        "Bout = 377*np.pi/(2*Zoout*np.sqrt(er))\n",
        "\n",
        "wh5out = 8*np.exp(Aout)/(np.exp(2*Aout)-2)\n",
        "wh6out = (2/np.pi)*(Bout-1-np.log(2*Bout-1)+((er-1)/(2*er))*(np.log(Bout-1)+0.39-(0.61/er)))\n",
        "#wh6pout = ((er-1)/(pi*er))*(np.log(Bout-1)+0.293-(0.517/er))+(2/pi)*(Bout-1-log(2*Bout-1))\n",
        "\n",
        "if wh5out>=2 and wh6out>=2:\n",
        "  whout = wh6out\n",
        "else:\n",
        "  whout = wh5out\n",
        "if whout>=1:\n",
        "  er_out= ((er+1)/2)+((er-1)/2)*(1/(np.sqrt(1+(12/whout))))\n",
        "else: \n",
        "  er_out=(er+1)/2 + ((er-1)/2)*((1/np.sqrt(1+12/whout)) + 0.04*(1-whout)**2)\n",
        "\n",
        "wout = whout * h\n",
        "if whout>=(1/(2*np.pi)):\n",
        "  weout = wout+((t/np.pi)*(1+(np.log((4*np.pi*wout)/t))))\n",
        "else:\n",
        "  weout = wout+((t/np.pi)*(1+np.log((2*h)/t)))\n",
        "\n",
        "# Largo salida\n",
        "lambdaa = 3e8 / fo\n",
        "lambdaefout = lambdaa/np.sqrt(er_out)\n",
        "largoout = lambdaefout/4\n",
        "\n",
        "print(\"\\nEl ancho de la microtira de salida es de\",np.round(weout*10**3,3),\"mm\")\n",
        "print(\"El largo de la microtira de salida es de\",np.round(largoout*10**3,3),\"mm\")"
      ],
      "metadata": {
        "id": "MaP5fz86IP71",
        "colab": {
          "base_uri": "https://localhost:8080/"
        },
        "outputId": "591c5bae-5802-4333-a736-53473e4d375a"
      },
      "execution_count": null,
      "outputs": [
        {
          "output_type": "stream",
          "name": "stdout",
          "text": [
            "El ancho de la microtira de entrada es de 7.911 mm\n",
            "El largo de la microtira de entrada es de 22.642 mm\n",
            "\n",
            "El ancho de la microtira de salida es de 6.001 mm\n",
            "El largo de la microtira de salida es de 22.92 mm\n"
          ]
        }
      ]
    },
    {
      "cell_type": "markdown",
      "source": [
        "#Microtiras de capacitores de entrada y salida"
      ],
      "metadata": {
        "id": "t37YWosYFqlo"
      }
    },
    {
      "cell_type": "code",
      "source": [
        "er = 4;\n",
        "h = 0.0012\n",
        "t = 7e-5\n",
        "Zo = 50\n",
        "\n",
        "#MICROTIRA CAPACITOR DE ENTRADA\n",
        "#Zo 50oms ; we 2.6217e-03\n",
        "wecin = 2.6217e-03\n",
        "whcin = wecin / h\n",
        "if whcin>=1:\n",
        "  er_cin= ((er+1)/2)+((er-1)/2)*(1/(np.sqrt(1+(12/whcin))))\n",
        "else: \n",
        "  er_cin=(er+1)/2 + ((er-1)/2)*((1/np.sqrt(1+12/whcin)) + 0.04*(1-whcin)**2) \n",
        "\n",
        "Xcin = 1 / (2*np.pi*fo*Cin)\n",
        "lambdaefcin = lambdaa/np.sqrt(er_cin)\n",
        "betain = 2*np.pi/lambdaefcin\n",
        "din = np.arctan(Zo/Xcin) / betain\n",
        "\n",
        "print(\"\\nEl capacitor de entrada tiene un valor de\",np.real(np.round(Cin*10**12,3)),\"pF\")\n",
        "print(\"El ancho de la microtira del capacitor de entrada es de\",np.real(np.round(wecin*10**3,3)),\"mm\")\n",
        "print(\"El largo de la microtira del capacitor de entrada es de\",np.real(np.round(din*10**3,3)),\"mm\")\n",
        "\n",
        "#MICROTIRA CAPACITOR DE SALIDA\n",
        "#Zo 50oms ; we 2.6217e-03\n",
        "wecout = 2.6217e-03\n",
        "whcout = wecout / h\n",
        "if whcout>=1:\n",
        "  er_cout= ((er+1)/2)+((er-1)/2)*(1/(np.sqrt(1+(12/whcout))))\n",
        "else: \n",
        "  er_cout=(er+1)/2 + ((er-1)/2)*((1/np.sqrt(1+12/whcout)) + 0.04*(1-whcout)**2) \n",
        "  \n",
        "Xcout = 1 / (2*np.pi*fo*Cout)\n",
        "lambdaefcout = lambdaa/np.sqrt(er_cout)\n",
        "betaout = 2*np.pi/lambdaefcout\n",
        "dout = np.arctan(Zo/Xcout) / betaout\n",
        "\n",
        "print(\"\\nEl capacitor de salida tiene un valor de\",np.real(np.round(Cout*10**12,3)),\"pF\")\n",
        "print(\"El ancho de la microtira del capacitor de salida es de\",np.real(np.round(wecout*10**3,3)),\"mm\")\n",
        "print(\"El largo de la microtira del capacitor de salida es de\",np.real(np.round(dout*10**3,3)),\"mm\")"
      ],
      "metadata": {
        "id": "aKT1-aarFy5o"
      },
      "execution_count": null,
      "outputs": []
    },
    {
      "cell_type": "markdown",
      "source": [
        "#Microtiras transistor Base a R y Colector a R"
      ],
      "metadata": {
        "id": "HChcB7byGhF_"
      }
    },
    {
      "cell_type": "code",
      "source": [
        "#Todos son lambda / 4\n",
        "Z_BR = 100 #Impedancia Base-Resistor, criterio de Amado\n",
        "Z_CR = Z_BR #Impedancia Colector-Resistor, igual a la anterior\n",
        "\n",
        "AT = Z_BR/60 * np.sqrt((er+1)/2)+((er-1)/(er+1))*(0.23+(0.11)/er)\n",
        "#Apin = Zoin/60 * np.sqrt((er+1)/2)+((er-1)/(er+1))*(0.226+(0.121)/er)\n",
        "BT = 377*np.pi/(2*Z_BR*np.sqrt(er))\n",
        "\n",
        "wh5T = 8*np.exp(AT)/(np.exp(2*AT)-2)\n",
        "wh6T = (2/np.pi)*(BT-1-np.log(2*BT-1)+((er-1)/(2*er))*(np.log(BT-1)+0.39-(0.61/er)))\n",
        "#wh6p = ((er-1)/(pi*er))*(np.log(BT-1)+0.293-(0.517/er))+(2/pi)*(BT-1-log(2*BT-1))\n",
        "\n",
        "if wh5T>=2 and wh6T>=2:\n",
        "  whT = wh6T\n",
        "else:\n",
        "  whT = wh5T\n",
        "\n",
        "if whT>=1:\n",
        "  er_T= ((er+1)/2)+((er-1)/2)*(1/(np.sqrt(1+(12/whT))))\n",
        "else: \n",
        "  er_T=(er+1)/2 + ((er-1)/2)*((1/np.sqrt(1+12/whT)) + 0.04*(1-whT)**2)  \n",
        "wT = whT * h\n",
        "\n",
        "if whT>=(1/(2*np.pi)):\n",
        "  weT = wT+((t/np.pi)*(1+np.log((4*np.pi*wT)/t)))\n",
        "else:\n",
        "  weT = wT+((t/np.pi)*(1+(np.log((2*h)/t))))\n",
        "\n",
        "lambdaa = 3e8 / fo\n",
        "lambdaefT = lambdaa/np.sqrt(er_T) #Lambda efectivo transistor\n",
        "largoT = lambdaefT/4\n",
        "\n",
        "print(\"El ancho de la microtira de Base-Resistor y Colector-Resistor es de\",np.round(weT*10**3,3),\"mm\")\n",
        "print(\"El largo de la microtira de Base-Resistor y Colector-Resistor es de\",np.round(largoT*10**3,3),\"mm\")\n",
        "\n"
      ],
      "metadata": {
        "id": "F5HFCcdBGkkN"
      },
      "execution_count": null,
      "outputs": []
    },
    {
      "cell_type": "markdown",
      "source": [
        "#Microtiras transistor R a CA"
      ],
      "metadata": {
        "id": "Bg6zd2yljtC6"
      }
    },
    {
      "cell_type": "code",
      "source": [
        "#Todos son lambda / 4\n",
        "Z_BCA = 25 #Impedancia Base-Resistor, criterio de Amado\n",
        "\n",
        "Aca = Z_BCA/60 * np.sqrt((er+1)/2)+((er-1)/(er+1))*(0.23+(0.11)/er)\n",
        "#Apin = Zoin/60 * np.sqrt((er+1)/2)+((er-1)/(er+1))*(0.226+(0.121)/er)\n",
        "Bca = 377*np.pi/(2*Z_BCA*np.sqrt(er))\n",
        "\n",
        "wh5ca = 8*np.exp(Aca)/(np.exp(2*Aca)-2)\n",
        "wh6ca = (2/np.pi)*(Bca-1-np.log(2*Bca-1)+((er-1)/(2*er))*(np.log(Bca-1)+0.39-(0.61/er)))\n",
        "#wh6p = ((er-1)/(pi*er))*(np.log(Bca-1)+0.293-(0.517/er))+(2/pi)*(Bca-1-log(2*Bca-1))\n",
        "\n",
        "if wh5ca>=2 and wh6ca>=2:\n",
        "  whca = wh6ca\n",
        "else:\n",
        "  whca = wh5ca\n",
        "\n",
        "if whca>=1:\n",
        "  er_ca= ((er+1)/2)+((er-1)/2)*(1/(np.sqrt(1+(12/whca))))\n",
        "else: \n",
        "  er_ca=(er+1)/2 + ((er-1)/2)*((1/np.sqrt(1+12/whca)) + 0.04*(1-whca)**2)  \n",
        "wca = whca * h\n",
        "\n",
        "if whca>=(1/(2*np.pi)):\n",
        "  weca = wca+((t/np.pi)*(1+np.log((4*np.pi*wca)/t)))\n",
        "else:\n",
        "  weca = wca+((t/np.pi)*(1+(np.log((2*h)/t))))\n",
        "\n",
        "lambdaa = 3e8 / fo\n",
        "lambdaefca = lambdaa/np.sqrt(er_ca) #Lambda efectivo transistor\n",
        "largoca = lambdaefca/4\n",
        "\n",
        "print(\"El ancho de la microtira de Base-Resistor y Colector-Resistor es de\",np.round(weca*10**3,3),\"mm\")\n",
        "print(\"El largo de la microtira de Base-Resistor y Colector-Resistor es de\",np.round(largoca*10**3,3),\"mm\")"
      ],
      "metadata": {
        "colab": {
          "base_uri": "https://localhost:8080/"
        },
        "id": "h2IU-qYYj3YG",
        "outputId": "c3b96a84-4275-4e91-8213-aae20bfd67ab"
      },
      "execution_count": null,
      "outputs": [
        {
          "output_type": "stream",
          "name": "stdout",
          "text": [
            "El ancho de la microtira de Base-Resistor y Colector-Resistor es de 6.83 mm\n",
            "El largo de la microtira de Base-Resistor y Colector-Resistor es de 22.788 mm\n"
          ]
        }
      ]
    },
    {
      "cell_type": "markdown",
      "source": [
        "#Mensajes: Valores de microtiras"
      ],
      "metadata": {
        "id": "cr3fQn-T92Zu"
      }
    },
    {
      "cell_type": "code",
      "source": [
        "print(\"El ancho de la microtira de entrada es de\",np.round(wein*10**3,3),\"mm\")\n",
        "print(\"El largo de la microtira de entrada es de\",np.round(largoin*10**3,3),\"mm\")\n",
        "\n",
        "print(\"\\nEl ancho de la microtira de salida es de\",np.round(weout*10**3,3),\"mm\")\n",
        "print(\"El largo de la microtira de salida es de\",np.round(largoout*10**3,3),\"mm\")\n",
        "\n",
        "print(\"\\nEl capacitor de entrada tiene un valor de\",np.real(np.round(Cin*10**12,3)),\"pF\")\n",
        "print(\"El ancho de la microtira del capacitor de entrada es de\",np.real(np.round(wecin*10**3,3)),\"mm\")\n",
        "print(\"El largo de la microtira del capacitor de entrada es de\",np.real(np.round(din*10**3,3)),\"mm\")\n",
        "\n",
        "print(\"\\nEl capacitor de salida tiene un valor de\",np.real(np.round(Cout*10**12,3)),\"pF\")\n",
        "print(\"El ancho de la microtira del capacitor de salida es de\",np.real(np.round(wecout*10**3,3)),\"mm\")\n",
        "print(\"El largo de la microtira del capacitor de salida es de\",np.real(np.round(dout*10**3,3)),\"mm\")\n",
        "\n",
        "print(\"\\nEl ancho de la microtira de Base-Resistor y Colector-Resistor es de\",np.round(weT*10**3,3),\"mm\")\n",
        "print(\"El largo de la microtira de Base-Resistor y Colector-Resistor es de\",np.round(largoT*10**3,3),\"mm\")\n",
        "\n",
        "print(\"\\nEl ancho de la microtira de Base-Resistor y Colector-Resistor es de\",np.round(weca*10**3,3),\"mm\")\n",
        "print(\"El largo de la microtira de Base-Resistor y Colector-Resistor es de\",np.round(largoca*10**3,3),\"mm\")"
      ],
      "metadata": {
        "id": "YigJcteCJpmq"
      },
      "execution_count": null,
      "outputs": []
    }
  ]
}