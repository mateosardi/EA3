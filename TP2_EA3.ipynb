{
  "nbformat": 4,
  "nbformat_minor": 0,
  "metadata": {
    "colab": {
      "provenance": [],
      "include_colab_link": true
    },
    "kernelspec": {
      "name": "python3",
      "display_name": "Python 3"
    },
    "language_info": {
      "name": "python"
    }
  },
  "cells": [
    {
      "cell_type": "markdown",
      "metadata": {
        "id": "view-in-github",
        "colab_type": "text"
      },
      "source": [
        "<a href=\"https://colab.research.google.com/github/mateosardi/EA3/blob/main/TP2_EA3.ipynb\" target=\"_parent\"><img src=\"https://colab.research.google.com/assets/colab-badge.svg\" alt=\"Open In Colab\"/></a>"
      ]
    },
    {
      "cell_type": "code",
      "source": [
        "import numpy as np\n",
        "#import matplotlib.pyplot as plt"
      ],
      "metadata": {
        "id": "HrrvYPZFECnA"
      },
      "execution_count": null,
      "outputs": []
    },
    {
      "cell_type": "markdown",
      "source": [
        "#Parámetros"
      ],
      "metadata": {
        "id": "v3R3C_z7b1Wq"
      }
    },
    {
      "cell_type": "code",
      "source": [
        "fo = 1800000000;\n",
        "er = 4;\n",
        "h = 0.0015;\n",
        "t = 2e-5;"
      ],
      "metadata": {
        "id": "YmI0TMrWb1s6"
      },
      "execution_count": null,
      "outputs": []
    },
    {
      "cell_type": "markdown",
      "source": [
        "#Calculo de estabilidad"
      ],
      "metadata": {
        "id": "XaBECgpmkuXt"
      }
    },
    {
      "cell_type": "code",
      "source": [
        "s11 = 0.7445*np.exp(1j*158.2*np.pi/180);\n",
        "s12 = 0.0680*np.exp(1j*44.0*np.pi/180);\n",
        "s21 = 3.654*np.exp(1j*58.4*np.pi/180);\n",
        "s22 = 0.4998*np.exp(1j*168.3*np.pi/180);\n",
        "\n",
        "d = s11*s22-s12*s21\n",
        "k = (1-np.abs(s11)**2-np.abs(s22)**2+np.abs(d)**2)/(2*np.abs(s21*s12))\n",
        "#modD= np.abs(d)\n",
        "#angle(d)*180/pi\n",
        "if k>1 and (np.abs(d)<1):\n",
        "  print(\"Es estable\")\n",
        "else:\n",
        "  print(\"No es estable\")"
      ],
      "metadata": {
        "colab": {
          "base_uri": "https://localhost:8080/"
        },
        "id": "84dtgF2cktNF",
        "outputId": "8087b447-2c95-419e-caa9-ab97831c6193"
      },
      "execution_count": null,
      "outputs": [
        {
          "output_type": "stream",
          "name": "stdout",
          "text": [
            "Es estable\n"
          ]
        }
      ]
    },
    {
      "cell_type": "markdown",
      "source": [
        "#Cálculo de parámetros"
      ],
      "metadata": {
        "id": "5M2p_OEaDiTY"
      }
    },
    {
      "cell_type": "code",
      "source": [
        "B1 = 1+np.abs(s11)**2-np.abs(s22)**2-abs(d)**2\n",
        "B2 = 1+abs(s22)**2-abs(s11)**2-abs(d)**2\n",
        "C1 = s11-(d*np.conj(s22))\n",
        "C2 = s22-(d*np.conj(s11))\n",
        "#np.abs(C1)\n",
        "#np.angle(C1)*180/pi\n",
        "#np.abs(C2)\n",
        "#np.angle(C2)*180/pi\n",
        "\n",
        "MSG = 10*np.log10(np.abs(s21)/np.abs(s12))\n",
        "MAG = MSG + 10*np.log10(k-np.sqrt(k**2-1))\n",
        "\n",
        "mgammain = np.abs((B1-np.sqrt(B1**2-4*np.abs(C1)**2))/(2*np.abs(C1)))\n",
        "fgammain = np.angle(C1)*180/np.pi\n",
        "\n",
        "mgammaout = np.abs((B2-np.sqrt(B2**2-4*np.abs(C2)**2))/(2*np.abs(C2)))\n",
        "fgammaout = np.angle(C2)*180/np.pi\n",
        "\n",
        "gammain = mgammain*np.exp(1j*fgammain*np.pi/180)\n",
        "gammaout = mgammaout*np.exp(1j*fgammaout*np.pi/180)"
      ],
      "metadata": {
        "id": "VhIkUztdDmy5"
      },
      "execution_count": null,
      "outputs": []
    },
    {
      "cell_type": "markdown",
      "source": [
        "#Impedancias"
      ],
      "metadata": {
        "id": "5-Bjho8EDuFW"
      }
    },
    {
      "cell_type": "code",
      "source": [
        "Zo = 50;\n",
        "RL = 50;\n",
        "\n",
        "Zin = Zo*(1+gammain)/(1-gammain)\n",
        "Zout = Zo*(1+gammaout)/(1-gammaout)\n",
        "Zs = np.conj(Zin)\n",
        "ZL = np.conj(Zout)\n",
        "\n",
        "#ZIN\n",
        "Rp = np.real(Zin)*(1+(np.imag(Zin)/np.real(Zin))**2)\n",
        "Xp = Rp * np.real(Zin) / np.imag(Zin)\n",
        "Xcin = -Xp*1j\n",
        "Cin = 1/(1j*2*np.pi*fo*Xcin)\n",
        "Zoin = np.sqrt(Rp*Zo)\n",
        "\n",
        "#ZOUT\n",
        "Zoout = np.sqrt(np.real(Zout)*RL)\n",
        "#Xcout = 1j*np.imag(Zout)\n",
        "#Cout = 1/(1j*2*np.pi*fo*Xcout)\n",
        "Xl = Zoout**2/(1j*np.imag(Zout))\n",
        "Cout = 1/(1j*2*np.pi*fo*-Xl)"
      ],
      "metadata": {
        "id": "vMrD3smfDyn6"
      },
      "execution_count": null,
      "outputs": []
    },
    {
      "cell_type": "markdown",
      "source": [
        "#Cálculo de microtiras de 50 $\\Omega$"
      ],
      "metadata": {
        "id": "LR1Eh5ETJ8Bx"
      }
    },
    {
      "cell_type": "code",
      "source": [
        "\n",
        "Z_50 = 50 #Impedancia de microtiras\n",
        "\n",
        "A50 = Z_50/60 * np.sqrt((er+1)/2)+((er-1)/(er+1))*(0.23+(0.11/er))\n",
        "B50 = (377*np.pi)/(2*Z_50*np.sqrt(er))\n",
        "\n",
        "wh550 = (8*np.exp(A50))/(np.exp(2*A50)-2)\n",
        "wh650 = (2/np.pi)*(B50-1-np.log(2*B50-1)+(((er-1)/(2*er))*(np.log(B50-1)+0.39-(0.61/er))))\n",
        "\n",
        "if wh550>=2 and wh650>=2:\n",
        "  wh50 = wh650\n",
        "else:\n",
        "  wh50 = wh550\n",
        "\n",
        "if wh50>=1:\n",
        "  er_50= ((er+1)/2)+((er-1)/2)*(1/(np.sqrt(1+(12/wh50))))\n",
        "else: \n",
        "  er_50=((er+1)/2) + ((er-1)/2)*((1/np.sqrt(1+12/wh50)) + 0.04*((1-wh50)**2))  \n",
        "\n",
        "w50 = wh50 * h\n",
        "\n",
        "if wh50<=(1/(2*np.pi)):\n",
        "  we50 = w50+((t/np.pi)*(1+np.log((4*np.pi*w50)/t)))\n",
        "else:\n",
        "  we50 = w50+((t/np.pi)*(1+(np.log((2*h)/t))))\n",
        "\n",
        "lambdaa = 3e8 / fo\n",
        "lambdaef50 = lambdaa/np.sqrt(er_50)\n",
        "\n",
        "print(\"El ancho de la microtira de 50 Ohm es de\",np.real(np.round(we50*10**3,3)),\"mm\")\n",
        "print(\"El largo no importa\")"
      ],
      "metadata": {
        "colab": {
          "base_uri": "https://localhost:8080/"
        },
        "id": "VBWGSKbPcWUt",
        "outputId": "26831204-084a-4ec0-fd6c-e1b9d3176790"
      },
      "execution_count": null,
      "outputs": [
        {
          "output_type": "stream",
          "name": "stdout",
          "text": [
            "El ancho de la microtira de 50 Ohm es de 3.118 mm\n",
            "El largo no importa\n"
          ]
        }
      ]
    },
    {
      "cell_type": "markdown",
      "source": [
        "#Cálculo de microtiras de entrada y salida"
      ],
      "metadata": {
        "id": "WmkZrlzqD2WO"
      }
    },
    {
      "cell_type": "code",
      "source": [
        "#MICROTIRA ZIN\n",
        "\n",
        "Ain = Zoin/60 * np.sqrt((er+1)/2)+((er-1)/(er+1))*(0.23+(0.11)/er)\n",
        "Bin = 377*np.pi/(2*Zoin*np.sqrt(er))\n",
        "\n",
        "wh5in = 8*np.exp(Ain)/(np.exp(2*Ain)-2)\n",
        "wh6in = (2/np.pi)*(Bin-1-np.log(2*Bin-1)+((er-1)/(2*er))*(np.log(Bin-1)+0.39-(0.61/er)))\n",
        "\n",
        "if wh5in>=2 and wh6in>=2:\n",
        "  whin = wh6in\n",
        "else:\n",
        "  whin = wh5in\n",
        "if whin>=1:\n",
        "  er_in= ((er+1)/2)+((er-1)/2)*(1/(np.sqrt(1+(12/whin))))\n",
        "else: \n",
        "  er_in=(er+1)/2 + ((er-1)/2)*((1/np.sqrt(1+12/whin)) + 0.04*(1-whin)**2)  \n",
        "win = whin * h\n",
        "if whin<=(1/(2*np.pi)):\n",
        "  wein = win+((t/np.pi)*(1+np.log((4*np.pi*win)/t)))\n",
        "else:\n",
        "  wein = win+((t/np.pi)*(1+(np.log((2*h)/t))))\n",
        "  \n",
        "# Largo entrada  \n",
        "lambdaa = 3e8 / fo\n",
        "lambdaefin = lambdaa/np.sqrt(er_in)\n",
        "largoin = lambdaefin/4  \n",
        "\n",
        "print(\"El ancho de la microtira de entrada es de\",np.round(wein*10**3,3),\"mm\")\n",
        "print(\"El largo de la microtira de entrada es de\",np.round(largoin*10**3,3),\"mm\")\n",
        "\n",
        "#MICROTIRA ZOUT\n",
        "\n",
        "Aout = Zoout/60 * np.sqrt((er+1)/2)+((er-1)/(er+1))*(0.23+(0.11)/er)\n",
        "#Apout = Zoout/60 * np.sqrt((er+1)/2)+((er-1)/(er+1))*(0.226+(0.121)/er)\n",
        "Bout = 377*np.pi/(2*Zoout*np.sqrt(er))\n",
        "\n",
        "wh5out = 8*np.exp(Aout)/(np.exp(2*Aout)-2)\n",
        "wh6out = (2/np.pi)*(Bout-1-np.log(2*Bout-1)+((er-1)/(2*er))*(np.log(Bout-1)+0.39-(0.61/er)))\n",
        "#wh6pout = ((er-1)/(pi*er))*(np.log(Bout-1)+0.293-(0.517/er))+(2/pi)*(Bout-1-log(2*Bout-1))\n",
        "\n",
        "if wh5out>=2 and wh6out>=2:\n",
        "  whout = wh6out\n",
        "else:\n",
        "  whout = wh5out\n",
        "if whout>=1:\n",
        "  er_out= ((er+1)/2)+((er-1)/2)*(1/(np.sqrt(1+(12/whout))))\n",
        "else: \n",
        "  er_out=(er+1)/2 + ((er-1)/2)*((1/np.sqrt(1+12/whout)) + 0.04*(1-whout)**2)\n",
        "\n",
        "wout = whout * h\n",
        "if whout<=(1/(2*np.pi)):\n",
        "  weout = wout+((t/np.pi)*(1+(np.log((4*np.pi*wout)/t))))\n",
        "else:\n",
        "  weout = wout+((t/np.pi)*(1+np.log((2*h)/t)))\n",
        "\n",
        "# Largo salida\n",
        "lambdaa = 3e8 / fo\n",
        "lambdaefout = lambdaa/np.sqrt(er_out)\n",
        "largoout = lambdaefout/4\n",
        "\n",
        "print(\"\\nEl ancho de la microtira de salida es de\",np.round(weout*10**3,3),\"mm\")\n",
        "print(\"El largo de la microtira de salida es de\",np.round(largoout*10**3,3),\"mm\")"
      ],
      "metadata": {
        "id": "MaP5fz86IP71",
        "colab": {
          "base_uri": "https://localhost:8080/"
        },
        "outputId": "0b2b352b-c7a1-41f8-c2f0-318cc9afa5e4"
      },
      "execution_count": null,
      "outputs": [
        {
          "output_type": "stream",
          "name": "stdout",
          "text": [
            "El ancho de la microtira de entrada es de 9.697 mm\n",
            "El largo de la microtira de entrada es de 22.642 mm\n",
            "\n",
            "El ancho de la microtira de salida es de 7.318 mm\n",
            "El largo de la microtira de salida es de 22.92 mm\n"
          ]
        }
      ]
    },
    {
      "cell_type": "markdown",
      "source": [
        "#Microtiras de capacitores de entrada y salida"
      ],
      "metadata": {
        "id": "t37YWosYFqlo"
      }
    },
    {
      "cell_type": "code",
      "source": [
        "#MICROTIRA CAPACITOR DE ENTRADA\n",
        "#Zo 50oms ; we 2.6217e-03\n",
        "ACin = Zo/60 * np.sqrt((er+1)/2)+((er-1)/(er+1))*(0.23+(0.11)/er)\n",
        "BCin = 377*np.pi/(2*Zo*np.sqrt(er))\n",
        "\n",
        "wh5Cin = 8*np.exp(ACin)/(np.exp(2*ACin)-2)\n",
        "wh6Cin = (2/np.pi)*(BCin-1-np.log(2*BCin-1)+((er-1)/(2*er))*(np.log(BCin-1)+0.39-(0.61/er)))\n",
        "\n",
        "if wh5Cin>=2 and wh6Cin>=2:\n",
        "  whCin = wh6Cin\n",
        "else:\n",
        "  whCin = wh5Cin\n",
        "if whCin>=1:\n",
        "  er_Cin= ((er+1)/2)+((er-1)/2)*(1/(np.sqrt(1+(12/whCin))))\n",
        "else: \n",
        "  er_Cin=(er+1)/2 + ((er-1)/2)*((1/np.sqrt(1+12/whCin)) + 0.04*(1-whCin)**2)  \n",
        "wCin = whCin * h\n",
        "if whCin<=(1/(2*np.pi)):\n",
        "  weCin = wCin+((t/np.pi)*(1+np.log((4*np.pi*wCin)/t)))\n",
        "else:\n",
        "  weCin = wCin+((t/np.pi)*(1+(np.log((2*h)/t))))\n",
        "\n",
        "Xcin = 1 / (2*np.pi*fo*Cin)\n",
        "lambdaefcin = lambdaa/np.sqrt(er_Cin)\n",
        "betain = 2*np.pi/lambdaefcin\n",
        "din = np.arctan(Zo/Xcin) / betain\n",
        "\n",
        "print(\"\\nEl capacitor de entrada tiene un valor de\",np.real(np.round(Cin*10**12,3)),\"pF\")\n",
        "print(\"El ancho de la microtira del capacitor de entrada es de\",np.real(np.round(weCin*10**3,3)),\"mm\")\n",
        "print(\"El largo de la microtira del capacitor de entrada es de\",np.real(np.round(din*10**3,3)),\"mm\")\n",
        "\n",
        "#MICROTIRA CAPACITOR DE SALIDA\n",
        "#Zo 50oms ; we 2.6217e-03\n",
        "\n",
        "ACout = Zo/60 * np.sqrt((er+1)/2)+((er-1)/(er+1))*(0.23+(0.11)/er)\n",
        "BCout = 377*np.pi/(2*Zo*np.sqrt(er))\n",
        "\n",
        "wh5Cout = 8*np.exp(ACout)/(np.exp(2*ACout)-2)\n",
        "wh6Cout = (2/np.pi)*(BCout-1-np.log(2*BCout-1)+((er-1)/(2*er))*(np.log(BCout-1)+0.39-(0.61/er)))\n",
        "\n",
        "if wh5Cout>=2 and wh6Cout>=2:\n",
        "  whCout = wh6Cout\n",
        "else:\n",
        "  whCout = wh5Cout\n",
        "if whCout>=1:\n",
        "  er_Cout= ((er+1)/2)+((er-1)/2)*(1/(np.sqrt(1+(12/whCout))))\n",
        "else: \n",
        "  er_Cout=(er+1)/2 + ((er-1)/2)*((1/np.sqrt(1+12/whCout)) + 0.04*(1-whCout)**2)  \n",
        "wCout = whCout * h\n",
        "if whCout<=(1/(2*np.pi)):\n",
        "  weCout = wCout+((t/np.pi)*(1+np.log((4*np.pi*wCout)/t)))\n",
        "else:\n",
        "  weCout = wCout+((t/np.pi)*(1+(np.log((2*h)/t))))\n",
        "\n",
        "Xcout = 1 / (2*np.pi*fo*Cout)\n",
        "lambdaefcout = lambdaa/np.sqrt(er_Cout)\n",
        "betaout = 2*np.pi/lambdaefcout\n",
        "dout = np.arctan(Zo/Xcout) / betaout\n",
        "\n",
        "print(\"\\nEl capacitor de salida tiene un valor de\",np.real(np.round(Cout*10**12,3)),\"pF\")\n",
        "print(\"El ancho de la microtira del capacitor de salida es de\",np.real(np.round(weCout*10**3,3)),\"mm\")\n",
        "print(\"El largo de la microtira del capacitor de salida es de\",np.real(np.round(dout*10**3,3)),\"mm\")"
      ],
      "metadata": {
        "id": "aKT1-aarFy5o",
        "colab": {
          "base_uri": "https://localhost:8080/"
        },
        "outputId": "44fe03d5-d597-46d6-f160-b2f38662ad85"
      },
      "execution_count": null,
      "outputs": [
        {
          "output_type": "stream",
          "name": "stdout",
          "text": [
            "\n",
            "El capacitor de entrada tiene un valor de 9.306 pF\n",
            "El ancho de la microtira del capacitor de entrada es de 3.118 mm\n",
            "El largo de la microtira del capacitor de entrada es de 20.926 mm\n",
            "\n",
            "El capacitor de salida tiene un valor de 2.106 pF\n",
            "El ancho de la microtira del capacitor de salida es de 3.118 mm\n",
            "El largo de la microtira del capacitor de salida es de 13.199 mm\n"
          ]
        }
      ]
    },
    {
      "cell_type": "markdown",
      "source": [
        "#Microtira inductiva transistor"
      ],
      "metadata": {
        "id": "HChcB7byGhF_"
      }
    },
    {
      "cell_type": "code",
      "source": [
        "#Todos son lambda / 4\n",
        "Z_BR = 80 \n",
        "Z_CR = Z_BR #Impedancia Colector-Resistor, igual a la anterior\n",
        "\n",
        "AT = Z_BR/60 * np.sqrt((er+1)/2)+((er-1)/(er+1))*(0.23+(0.11/er))\n",
        "#Apin = Zoin/60 * np.sqrt((er+1)/2)+((er-1)/(er+1))*(0.226+(0.121)/er)\n",
        "BT = (377*np.pi)/(2*Z_BR*np.sqrt(er))\n",
        "\n",
        "wh5T = (8*np.exp(AT))/(np.exp(2*AT)-2)\n",
        "wh6T = (2/np.pi)*(BT-1-np.log(2*BT-1)+(((er-1)/(2*er))*(np.log(BT-1)+0.39-(0.61/er))))\n",
        "#wh6p = ((er-1)/(pi*er))*(np.log(BT-1)+0.293-(0.517/er))+(2/pi)*(BT-1-log(2*BT-1))\n",
        "\n",
        "if wh5T>=2 and wh6T>=2:\n",
        "  whT = wh6T\n",
        "else:\n",
        "  whT = wh5T\n",
        "\n",
        "if whT>=1:\n",
        "  er_T= ((er+1)/2)+((er-1)/2)*(1/(np.sqrt(1+(12/whT))))\n",
        "else: \n",
        "  er_T=((er+1)/2) + ((er-1)/2)*((1/np.sqrt(1+12/whT)) + 0.04*((1-whT)**2))  \n",
        "wT = whT * h\n",
        "\n",
        "if whT<=(1/(2*np.pi)):\n",
        "  weT = wT+((t/np.pi)*(1+np.log((4*np.pi*wT)/t)))\n",
        "else:\n",
        "  weT = wT+((t/np.pi)*(1+(np.log((2*h)/t))))\n",
        "\n",
        "lambdaa = 3e8 / fo\n",
        "lambdaefT = lambdaa/np.sqrt(er_T) #Lambda efectivo transistor\n",
        "largoT = lambdaefT/4\n",
        "\n",
        "print(\"\\nEl ancho de la microtira inductiva del transistor es de\",np.round(weT*10**3,3),\"mm\")\n",
        "print(\"El largo de la microtira inductiva del transistor es de\",np.round(largoT*10**3,3),\"mm\")\n"
      ],
      "metadata": {
        "id": "F5HFCcdBGkkN",
        "colab": {
          "base_uri": "https://localhost:8080/"
        },
        "outputId": "e222cb2c-3b07-4dc3-b655-56fc3b98d930"
      },
      "execution_count": null,
      "outputs": [
        {
          "output_type": "stream",
          "name": "stdout",
          "text": [
            "\n",
            "El ancho de la microtira inductiva del transistor es de 1.315 mm\n",
            "El largo de la microtira inductiva del transistor es de 24.521 mm\n"
          ]
        }
      ]
    },
    {
      "cell_type": "markdown",
      "source": [
        "#Microtira capacitiva transistor"
      ],
      "metadata": {
        "id": "Bg6zd2yljtC6"
      }
    },
    {
      "cell_type": "code",
      "source": [
        "#Todos son lambda / 4\n",
        "Z_BCA = 35 #Impedancia Base-Resistor\n",
        "\n",
        "Aca = (Z_BCA/60) * np.sqrt((er+1)/2)+((er-1)/(er+1))*(0.23+(0.11/er))\n",
        "#Apin = Zoin/60 * np.sqrt((er+1)/2)+((er-1)/(er+1))*(0.226+(0.121)/er)\n",
        "Bca = (377*np.pi)/(2*Z_BCA*np.sqrt(er))\n",
        "\n",
        "wh5ca = (8*np.exp(Aca))/(np.exp(2*Aca)-2)\n",
        "wh6ca = (2/np.pi)*(Bca-1-np.log(2*Bca-1)+((er-1)/(2*er))*(np.log(Bca-1)+0.39-(0.61/er)))\n",
        "#wh6p = ((er-1)/(pi*er))*(np.log(Bca-1)+0.293-(0.517/er))+(2/pi)*(Bca-1-log(2*Bca-1))\n",
        "\n",
        "if wh5ca>=2 and wh6ca>=2:\n",
        "  whca = wh6ca\n",
        "else:\n",
        "  whca = wh5ca\n",
        "\n",
        "if whca>=1:\n",
        "  er_ca= ((er+1)/2)+((er-1)/2)*(1/(np.sqrt(1+(12/whca))))\n",
        "else: \n",
        "  er_ca=((er+1)/2) + ((er-1)/2)*((1/np.sqrt(1+12/whca)) + 0.04*((1-whca)**2))  \n",
        "wca = whca * h\n",
        "\n",
        "if whca<=(1/(2*np.pi)):\n",
        "  weca = wca+((t/np.pi)*(1+np.log((4*np.pi*wca)/t)))\n",
        "else:\n",
        "  weca = wca+((t/np.pi)*(1+(np.log((2*h)/t))))\n",
        "\n",
        "lambdaa = 3e8 / fo\n",
        "lambdaefca = lambdaa/np.sqrt(er_ca) #Lambda efectivo transistor\n",
        "largoca = lambdaefca/4\n",
        "\n",
        "print(\"\\nEl ancho de la microtira capacitiva es de\",np.round(weca*10**3,3),\"mm\")\n",
        "print(\"El largo de la microtira capacitiva es de\",np.round(largoca*10**3,3),\"mm\")"
      ],
      "metadata": {
        "colab": {
          "base_uri": "https://localhost:8080/"
        },
        "id": "h2IU-qYYj3YG",
        "outputId": "018c47fb-054a-4124-8ee4-35efd189de25"
      },
      "execution_count": null,
      "outputs": [
        {
          "output_type": "stream",
          "name": "stdout",
          "text": [
            "\n",
            "El ancho de la microtira capacitiva es de 5.324 mm\n",
            "El largo de la microtira capacitiva es de 23.239 mm\n"
          ]
        }
      ]
    },
    {
      "cell_type": "markdown",
      "source": [
        "#Mensajes: Valores de microtiras"
      ],
      "metadata": {
        "id": "cr3fQn-T92Zu"
      }
    },
    {
      "cell_type": "code",
      "source": [
        "print(\"Estos son los parámetros utilizados:\")\n",
        "print(\"fo = \", fo*10**-9,\"GHz\")\n",
        "print(\"er = \", er)\n",
        "print(\"h = \", h)\n",
        "print(\"t = \", t)\n",
        "\n",
        "print(\"\\nEl ancho de la microtira de 50 Ohm es de\",np.real(np.round(we50*10**3,3)),\"mm\")\n",
        "print(\"El largo no importa\")\n",
        "\n",
        "print(\"\\nEl ancho de la microtira de entrada es de\",np.round(wein*10**3,3),\"mm\")\n",
        "print(\"El largo de la microtira de entrada es de\",np.round(largoin*10**3,3),\"mm\")\n",
        "\n",
        "print(\"\\nEl ancho de la microtira de salida es de\",np.round(weout*10**3,3),\"mm\")\n",
        "print(\"El largo de la microtira de salida es de\",np.round(largoout*10**3,3),\"mm\")\n",
        "\n",
        "print(\"\\nEl capacitor de entrada tiene un valor de\",np.real(np.round(Cin*10**12,3)),\"pF\")\n",
        "print(\"El ancho de la microtira del capacitor de entrada es de\",np.real(np.round(weCin*10**3,3)),\"mm\")\n",
        "print(\"El largo de la microtira del capacitor de entrada es de\",np.real(np.round(din*10**3,3)),\"mm  (Reajustar en el circuito)\")\n",
        "print(\"Su taper respectivo es de 2 mm\")\n",
        "\n",
        "print(\"\\nEl capacitor de salida tiene un valor de\",np.real(np.round(Cout*10**12,3)),\"pF\")\n",
        "print(\"El ancho de la microtira del capacitor de salida es de\",np.real(np.round(weCout*10**3,3)),\"mm\")\n",
        "print(\"El largo de la microtira del capacitor de salida es de\",np.real(np.round(dout*10**3,3)),\"mm  (Reajustar en el circuito)\")\n",
        "print(\"Su taper respectivo es de 2 mm\")\n",
        "\n",
        "print(\"\\nEl ancho de la microtira inductiva del transistor es de\",np.round(weT*10**3,3),\"mm\")\n",
        "print(\"El largo de la microtira inductiva del transistor es de\",np.round(largoT*10**3,3),\"mm\")\n",
        "\n",
        "print(\"\\nEl ancho de la microtira capacitiva del transistor es de\",np.round(weca*10**3,3),\"mm\")\n",
        "print(\"El largo de la microtira capacitiva del transistor es de\",np.round(largoca*10**3,3),\"mm\")\n",
        "print(\"Su taper respectivo es de 2 mm\")"
      ],
      "metadata": {
        "id": "YigJcteCJpmq",
        "colab": {
          "base_uri": "https://localhost:8080/"
        },
        "outputId": "6410745f-39e3-4f81-9b4f-b7b97d446680"
      },
      "execution_count": null,
      "outputs": [
        {
          "output_type": "stream",
          "name": "stdout",
          "text": [
            "Estos son los parámetros utilizados:\n",
            "fo =  1.8 GHz\n",
            "er =  4\n",
            "h =  0.0015\n",
            "t =  2e-05\n",
            "\n",
            "El ancho de la microtira de 50 Ohm es de 3.118 mm\n",
            "El largo no importa\n",
            "\n",
            "El ancho de la microtira de entrada es de 9.697 mm\n",
            "El largo de la microtira de entrada es de 22.642 mm\n",
            "\n",
            "El ancho de la microtira de salida es de 7.318 mm\n",
            "El largo de la microtira de salida es de 22.92 mm\n",
            "\n",
            "El capacitor de entrada tiene un valor de 9.306 pF\n",
            "El ancho de la microtira del capacitor de entrada es de 3.118 mm\n",
            "El largo de la microtira del capacitor de entrada es de 20.926 mm  (Reajustar en el circuito)\n",
            "Su taper respectivo es de 2 mm\n",
            "\n",
            "El capacitor de salida tiene un valor de 2.106 pF\n",
            "El ancho de la microtira del capacitor de salida es de 3.118 mm\n",
            "El largo de la microtira del capacitor de salida es de 13.199 mm  (Reajustar en el circuito)\n",
            "Su taper respectivo es de 2 mm\n",
            "\n",
            "El ancho de la microtira inductiva del transistor es de 1.315 mm\n",
            "El largo de la microtira inductiva del transistor es de 24.521 mm\n",
            "\n",
            "El ancho de la microtira capacitiva del transistor es de 5.324 mm\n",
            "El largo de la microtira capacitiva del transistor es de 23.239 mm\n",
            "Su taper respectivo es de 2 mm\n"
          ]
        }
      ]
    }
  ]
}